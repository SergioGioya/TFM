{
 "cells": [
  {
   "cell_type": "code",
   "execution_count": 1,
   "metadata": {
    "collapsed": true
   },
   "outputs": [],
   "source": [
    "####!/usr/bin/python\n",
    "##### coding: utf-8"
   ]
  },
  {
   "cell_type": "markdown",
   "metadata": {},
   "source": [
    "###  <p style=\"text-align: center;\">Calculate the most similar neighborhoods of Madrid with respect to one district introduced by a client</p>"
   ]
  },
  {
   "cell_type": "code",
   "execution_count": 2,
   "metadata": {
    "collapsed": true
   },
   "outputs": [],
   "source": [
    "#Import required libraries\n",
    "\n",
    "import numpy as np\n",
    "import pandas as pd\n",
    "import psycopg2, psycopg2.extras\n",
    "import psycopg2.extensions\n",
    "import sys\n",
    "psycopg2.extensions.register_type(psycopg2.extensions.UNICODE) \n",
    "psycopg2.extensions.register_type(psycopg2.extensions.UNICODEARRAY)\n"
   ]
  },
  {
   "cell_type": "code",
   "execution_count": 5,
   "metadata": {},
   "outputs": [
    {
     "name": "stdout",
     "output_type": "stream",
     "text": [
      "introduzca la ccaa10\n",
      "introduzca el municipio2\n",
      "introduzca el distrito1\n"
     ]
    },
    {
     "data": {
      "text/html": [
       "<div>\n",
       "<style>\n",
       "    .dataframe thead tr:only-child th {\n",
       "        text-align: right;\n",
       "    }\n",
       "\n",
       "    .dataframe thead th {\n",
       "        text-align: left;\n",
       "    }\n",
       "\n",
       "    .dataframe tbody tr th {\n",
       "        vertical-align: top;\n",
       "    }\n",
       "</style>\n",
       "<table border=\"1\" class=\"dataframe\">\n",
       "  <thead>\n",
       "    <tr style=\"text-align: right;\">\n",
       "      <th></th>\n",
       "      <th>0</th>\n",
       "      <th>1</th>\n",
       "    </tr>\n",
       "  </thead>\n",
       "  <tbody>\n",
       "    <tr>\n",
       "      <th>0</th>\n",
       "      <td>132807904102</td>\n",
       "      <td>Lista</td>\n",
       "    </tr>\n",
       "    <tr>\n",
       "      <th>0</th>\n",
       "      <td>132807911070</td>\n",
       "      <td>San Isidro</td>\n",
       "    </tr>\n",
       "    <tr>\n",
       "      <th>0</th>\n",
       "      <td>132807913160</td>\n",
       "      <td>Portazgo</td>\n",
       "    </tr>\n",
       "  </tbody>\n",
       "</table>\n",
       "</div>"
      ],
      "text/plain": [
       "              0           1\n",
       "0  132807904102       Lista\n",
       "0  132807911070  San Isidro\n",
       "0  132807913160    Portazgo"
      ]
     },
     "execution_count": 5,
     "metadata": {},
     "output_type": "execute_result"
    }
   ],
   "source": [
    "#Get input data\n",
    "ccaai = raw_input(\"introduzca la ccaa\")\n",
    "#idcpro = raw_input(\"introduzca la provincia\")\n",
    "codmun = raw_input(\"introduzca el municipio\")\n",
    "iddist = raw_input(\"introduzca el distrito\")\n",
    "\n",
    "#Connect to database\n",
    "conn = psycopg2.connect(database='cityData', host='localhost',user = 'postgres', password=\"DS17\")\n",
    "cur = conn.cursor() \n",
    "\n",
    "#Prepare SQL string\n",
    "def check_sql_string(sql, a):\n",
    "    sql = sql.replace(\"?\",a)\n",
    "    return sql\n",
    "a=(' and seccdetail.idccaa='+ ccaai +' and seccdetail.codmun = '+ codmun +' and seccdetail.iddist = '+ iddist +';')\n",
    "q = \"\"\"SELECT * FROM seccdetail,seccresults where  seccdetail.idsecc = seccresults.idsecc ?\"\"\" #+rw \n",
    "\n",
    "#test SQL\n",
    "#print check_sql_string(q,a)\n",
    "\n",
    "#Get results\n",
    "\n",
    "cur.execute(check_sql_string(q,a))\n",
    "ver = cur.fetchall()\n",
    "df = pd.DataFrame(ver)\n",
    "#.set_index([0])\n",
    "#indexed_df_secc = indexed_df_secc.iloc[:,:145]\n",
    "df\n",
    "\n",
    "#Sort results\n",
    "\n",
    "df1 = pd.DataFrame(df.groupby([8]).size().reset_index().rename(columns={0:'count'}))\n",
    "df1.columns = ['secc', 'count']\n",
    "df1 = df1.set_index('secc')\n",
    "df1 = df1.sort_values(df1.columns[0],ascending=False)\n",
    "df1.head(3)\n",
    "\n",
    "r1 = str(df1.index[0])\n",
    "r2 = str(df1.index[1])\n",
    "r3 = str(df1.index[2])\n",
    "\n",
    "#Prepare SQL string\n",
    "#First Result\n",
    "\n",
    "def check_sql_string(sql, a):\n",
    "    sql = sql.replace(\"?\",a)\n",
    "    return sql\n",
    "a=('seccdetail.idsecc ='+ r1 +' and barrio.idbarrio =seccdetail.idbarrio ;')\n",
    "#a=codccaa.to_records().tolist()\n",
    "#rw= '?'+';'\n",
    "q = \"\"\"SELECT seccdetail.idsecc,barrioname  FROM seccdetail,barrio where ?\"\"\" #+rw \n",
    "\n",
    "#test SQL\n",
    "#print check_sql_string(q,a)\n",
    "cur.execute(check_sql_string(q,a))\n",
    "ver = cur.fetchall()\n",
    "df = pd.DataFrame(ver)\n",
    "\n",
    "#Second Result\n",
    "\n",
    "b=('seccdetail.idsecc ='+ r2 +' and barrio.idbarrio =seccdetail.idbarrio ;')\n",
    "#print check_sql_string(q,b)\n",
    "cur.execute(check_sql_string(q,b))\n",
    "ver2 = cur.fetchall()\n",
    "df = df.append(ver2)\n",
    "\n",
    "#Third Result\n",
    "\n",
    "c=('seccdetail.idsecc ='+ r3 +' and barrio.idbarrio =seccdetail.idbarrio ;')\n",
    "#print check_sql_string(q,c)\n",
    "cur.execute(check_sql_string(q,c))\n",
    "ver3 = cur.fetchall()\n",
    "\n",
    "df = df.append(ver3)\n",
    "\n",
    "#See results\n",
    "df\n"
   ]
  },
  {
   "cell_type": "code",
   "execution_count": null,
   "metadata": {
    "collapsed": true
   },
   "outputs": [],
   "source": []
  },
  {
   "cell_type": "code",
   "execution_count": null,
   "metadata": {
    "collapsed": true
   },
   "outputs": [],
   "source": []
  }
 ],
 "metadata": {
  "kernelspec": {
   "display_name": "Python 2",
   "language": "python",
   "name": "python2"
  },
  "language_info": {
   "codemirror_mode": {
    "name": "ipython",
    "version": 2
   },
   "file_extension": ".py",
   "mimetype": "text/x-python",
   "name": "python",
   "nbconvert_exporter": "python",
   "pygments_lexer": "ipython2",
   "version": "2.7.13"
  }
 },
 "nbformat": 4,
 "nbformat_minor": 2
}
